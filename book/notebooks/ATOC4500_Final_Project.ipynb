{
 "cells": [
  {
   "cell_type": "markdown",
   "metadata": {},
   "source": [
    "# A Critical Look at the Relationship Between Accumulation and Wind Direction on the West Antarctic Ice Sheet\n",
    "### ATOC 4500 - Boundary Layer Meteorology\n",
    "### Professor Julie Lundquist\n",
    "#### Brendan Myers"
   ]
  },
  {
   "cell_type": "markdown",
   "metadata": {},
   "source": [
    "### Purpose:\n",
    "In this analysis I will be focusing on the paper, \"Significant Spatial Variability in Radar‐Derived West Antarctic Accumulation Linked to Surface Winds and Topography,\" written by Dattler, Lenaerts, & Medley. In this paper it was assumed that \"the near‐surface winds on Antarctica (especially in the interior) are... very constant in direction.\" I will be testing if a difference in the results of this research emerges when the focus is turned onto the mean wind direction during accumulation events rather than the annual mean winds in the area."
   ]
  },
  {
   "cell_type": "code",
   "execution_count": 2,
   "metadata": {},
   "outputs": [
    {
     "ename": "ModuleNotFoundError",
     "evalue": "No module named 'netCDF4'",
     "output_type": "error",
     "traceback": [
      "\u001b[0;31m---------------------------------------------------------------------------\u001b[0m",
      "\u001b[0;31mModuleNotFoundError\u001b[0m                       Traceback (most recent call last)",
      "\u001b[0;32m<ipython-input-2-74f25175c97d>\u001b[0m in \u001b[0;36m<module>\u001b[0;34m\u001b[0m\n\u001b[0;32m----> 1\u001b[0;31m \u001b[0;32mimport\u001b[0m \u001b[0mnetCDF4\u001b[0m \u001b[0;32mas\u001b[0m \u001b[0mnc\u001b[0m\u001b[0;34m\u001b[0m\u001b[0;34m\u001b[0m\u001b[0m\n\u001b[0m\u001b[1;32m      2\u001b[0m \u001b[0mfn\u001b[0m \u001b[0;34m=\u001b[0m \u001b[0;34m'/Users/brendanmyers/Downloads/PRECSN_hourly_2016.nc'\u001b[0m\u001b[0;34m\u001b[0m\u001b[0;34m\u001b[0m\u001b[0m\n\u001b[1;32m      3\u001b[0m \u001b[0mds\u001b[0m \u001b[0;34m=\u001b[0m \u001b[0mnc\u001b[0m\u001b[0;34m.\u001b[0m\u001b[0mDataset\u001b[0m\u001b[0;34m(\u001b[0m\u001b[0mfn\u001b[0m\u001b[0;34m)\u001b[0m\u001b[0;34m\u001b[0m\u001b[0;34m\u001b[0m\u001b[0m\n",
      "\u001b[0;31mModuleNotFoundError\u001b[0m: No module named 'netCDF4'"
     ]
    }
   ],
   "source": [
    "import netCDF4 as nc\n",
    "fn = '/Users/brendanmyers/Downloads/PRECSN_hourly_2016.nc'\n",
    "ds = nc.Dataset(fn)"
   ]
  },
  {
   "cell_type": "markdown",
   "metadata": {},
   "source": [
    "### Bibliography\n",
    "Dattler, M. E., J. T. M. Lenaerts, and B. Medley, 2019: Significant Spatial Variability in Radar-Derived West Antarctic Accumulation Linked to Surface Winds and Topography. Geophysical Research Letters, 46, 13126–13134, https://doi.org/10.1029/2019GL085363.\n"
   ]
  },
  {
   "cell_type": "code",
   "execution_count": null,
   "metadata": {},
   "outputs": [],
   "source": []
  }
 ],
 "metadata": {
  "kernelspec": {
   "display_name": "Python 3",
   "language": "python",
   "name": "python3"
  },
  "language_info": {
   "codemirror_mode": {
    "name": "ipython",
    "version": 3
   },
   "file_extension": ".py",
   "mimetype": "text/x-python",
   "name": "python",
   "nbconvert_exporter": "python",
   "pygments_lexer": "ipython3",
   "version": "3.7.4"
  }
 },
 "nbformat": 4,
 "nbformat_minor": 2
}
